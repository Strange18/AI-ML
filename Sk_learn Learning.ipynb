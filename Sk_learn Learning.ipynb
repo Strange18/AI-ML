{
 "cells": [
  {
   "cell_type": "code",
   "execution_count": null,
   "id": "8df9c4fe",
   "metadata": {},
   "outputs": [],
   "source": [
    "# Some key point to remeber\n",
    "\n",
    "#  -> picking the right model is one of the foundations of your problem solving\n",
    "#  -> choosing right model is the one of the important and crucial task\n"
   ]
  },
  {
   "cell_type": "code",
   "execution_count": null,
   "id": "3e4f4e13",
   "metadata": {},
   "outputs": [],
   "source": [
    "# Some Criteria for choosing a model for the project\n",
    "\n",
    "# -> The amount of data\n",
    "#     -> Some models may require smaller dataset for better performance\n",
    "#     -> while some require larger dataset for better performance"
   ]
  },
  {
   "cell_type": "code",
   "execution_count": null,
   "id": "5f6850db",
   "metadata": {},
   "outputs": [],
   "source": [
    "# -> What are the main characteristics of your data?\n",
    "\n",
    "#         ->Is your data linear, quadratic, or all over the place? \n",
    "#         -> How do your distributions look like? \n",
    "#         ->Is your data made out of numbers or strings?  \n",
    "#         ->Is the data labeled?"
   ]
  },
  {
   "cell_type": "code",
   "execution_count": null,
   "id": "79bf922b",
   "metadata": {},
   "outputs": [],
   "source": [
    "# -> Kind of a problem are you solving\n",
    "#     regression -> predicting the parameter based on other inputs\n",
    "#     classification -> Classifying the given object\n",
    "#     clustering -> grouping similar objects or data points together based on their characteristics"
   ]
  },
  {
   "cell_type": "code",
   "execution_count": null,
   "id": "8528897a",
   "metadata": {},
   "outputs": [],
   "source": [
    "# -> How models perform when compared against each other?\n",
    "#     -> we can also choose a model based on the cheat sheet provided by the sickit learn\n",
    "#     -> The cheat sheet is in this same directory"
   ]
  },
  {
   "cell_type": "markdown",
   "id": "c64c004e",
   "metadata": {},
   "source": [
    "## Sklearn preprocessing – Prepare the data for analysis"
   ]
  },
  {
   "cell_type": "code",
   "execution_count": null,
   "id": "9607acf5",
   "metadata": {},
   "outputs": [],
   "source": [
    "# Data needs to be converted to the machine readable format for our chosen algorithm\n",
    "# Feature encoding is a method where we transform categorical variables into continuous ones.\n",
    "# The most popular ways of doing so are known as One Hot Encoding and Label encoding."
   ]
  },
  {
   "cell_type": "code",
   "execution_count": null,
   "id": "4a0404ab",
   "metadata": {},
   "outputs": [],
   "source": [
    "#  -> One Hot Encoding\n",
    "#     -> OneHotEncoder takes a categorical variable and converts it into a binary vector\n",
    "#     ->with a length equal to the number of categories."
   ]
  },
  {
   "cell_type": "code",
   "execution_count": null,
   "id": "59062fb6",
   "metadata": {},
   "outputs": [],
   "source": [
    "# -> Label Encoding\n",
    "#     ->Takes a categorical data into numerical data.\n",
    "#       -> Limitation: it can create a bias in the model if the assigned integer values\n",
    "#       ->are not meaningful or do not reflect the true nature of the categories. "
   ]
  },
  {
   "cell_type": "code",
   "execution_count": null,
   "id": "e9463557",
   "metadata": {},
   "outputs": [],
   "source": [
    "# Sklearn data scaling"
   ]
  },
  {
   "cell_type": "code",
   "execution_count": null,
   "id": "55835532",
   "metadata": {},
   "outputs": [],
   "source": [
    "# Sklearn missing values"
   ]
  },
  {
   "cell_type": "code",
   "execution_count": null,
   "id": "c5ea3e56",
   "metadata": {},
   "outputs": [],
   "source": [
    "# Sklearn train test split\n",
    "#     -> this module is used for splitting the data in two parts training set and test set"
   ]
  },
  {
   "cell_type": "code",
   "execution_count": null,
   "id": "24c05b01",
   "metadata": {},
   "outputs": [],
   "source": [
    "# Sklearn Regression – Predict the future"
   ]
  },
  {
   "cell_type": "code",
   "execution_count": null,
   "id": "65cc6f2c",
   "metadata": {},
   "outputs": [],
   "source": []
  }
 ],
 "metadata": {
  "kernelspec": {
   "display_name": "Python 3 (ipykernel)",
   "language": "python",
   "name": "python3"
  },
  "language_info": {
   "codemirror_mode": {
    "name": "ipython",
    "version": 3
   },
   "file_extension": ".py",
   "mimetype": "text/x-python",
   "name": "python",
   "nbconvert_exporter": "python",
   "pygments_lexer": "ipython3",
   "version": "3.10.9"
  }
 },
 "nbformat": 4,
 "nbformat_minor": 5
}
