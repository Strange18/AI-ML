{
 "cells": [
  {
   "cell_type": "code",
   "execution_count": null,
   "id": "838d4ae5",
   "metadata": {},
   "outputs": [],
   "source": [
    "# Background\n",
    "#     -> Numpy stands for Numerical Python\n",
    "#     -> A Python Library Used for working with arrays\n",
    "#     -> Has Functions for working in domain of:\n",
    "#         -> linear algebra\n",
    "#         -> fourier transform\n",
    "#         -> matrices\n",
    "import numpy as npan array object that is up to 50x faster than traditional Python lists.\n",
    "\n"
   ]
  },
  {
   "cell_type": "code",
   "execution_count": null,
   "id": "a90e79c9",
   "metadata": {},
   "outputs": [],
   "source": [
    "# There is list so why numpy?\n",
    "# -> lists are slower \n",
    "# -> numpy provides the speed of 50x time faster than lists\n",
    "\n",
    "# converting a simple list into numpy array\n",
    "\n",
    "array = np.array([1,2,3,4,5])\n",
    "\n",
    "array\n",
    "\n",
    "type(array)\n",
    "\n",
    "array.shape #to get the shape of the numpy array\n",
    "\n",
    "array.ndim #get the dimension of array"
   ]
  },
  {
   "cell_type": "code",
   "execution_count": null,
   "id": "dab4876e",
   "metadata": {},
   "outputs": [],
   "source": [
    "# converting a second D list to numpy array\n",
    "\n",
    "array2 = np.array([[1,2,3],[4,5,3]])\n",
    "\n",
    "array2\n",
    "\n",
    "type(array2)\n",
    "\n",
    "array2.shape\n",
    "\n",
    "array2.ndim\n"
   ]
  },
  {
   "cell_type": "code",
   "execution_count": 23,
   "id": "f08c16e3",
   "metadata": {},
   "outputs": [
    {
     "data": {
      "text/plain": [
       "array([[[[[1, 2, 3, 4]]]]])"
      ]
     },
     "execution_count": 23,
     "metadata": {},
     "output_type": "execute_result"
    }
   ],
   "source": [
    "# convert to any dimensrional numpy array by using ndimn argument\n",
    "arr = np.array([1, 2, 3, 4], ndmin=5)\n",
    "\n",
    "arr.ndim\n",
    "arr"
   ]
  },
  {
   "cell_type": "code",
   "execution_count": 25,
   "id": "b1e81046",
   "metadata": {},
   "outputs": [
    {
     "data": {
      "text/plain": [
       "2"
      ]
     },
     "execution_count": 25,
     "metadata": {},
     "output_type": "execute_result"
    }
   ],
   "source": [
    "# accessing the elements of the numpy array\n",
    "arr = np.array([1, 2, 3, 4])\n",
    "arr[1]"
   ]
  },
  {
   "cell_type": "code",
   "execution_count": 27,
   "id": "7d7bc2c7",
   "metadata": {},
   "outputs": [
    {
     "data": {
      "text/plain": [
       "7"
      ]
     },
     "execution_count": 27,
     "metadata": {},
     "output_type": "execute_result"
    }
   ],
   "source": [
    "# accessing the elements the in the 2D array\n",
    "arr = np.array([[1,2,3,4,5], [6,7,8,9,10]])\n",
    "\n",
    "arr[1][1]"
   ]
  },
  {
   "cell_type": "code",
   "execution_count": 28,
   "id": "9a056087",
   "metadata": {},
   "outputs": [],
   "source": [
    "import pandas as pd"
   ]
  },
  {
   "cell_type": "code",
   "execution_count": 33,
   "id": "f5533b47",
   "metadata": {},
   "outputs": [],
   "source": [
    "df = pd.read_csv('winequality.csv',usecols=['fixed acidity','volatile acidity','citric acid','residual sugar'])"
   ]
  },
  {
   "cell_type": "code",
   "execution_count": 35,
   "id": "e49f853f",
   "metadata": {},
   "outputs": [
    {
     "data": {
      "text/html": [
       "<div>\n",
       "<style scoped>\n",
       "    .dataframe tbody tr th:only-of-type {\n",
       "        vertical-align: middle;\n",
       "    }\n",
       "\n",
       "    .dataframe tbody tr th {\n",
       "        vertical-align: top;\n",
       "    }\n",
       "\n",
       "    .dataframe thead th {\n",
       "        text-align: right;\n",
       "    }\n",
       "</style>\n",
       "<table border=\"1\" class=\"dataframe\">\n",
       "  <thead>\n",
       "    <tr style=\"text-align: right;\">\n",
       "      <th></th>\n",
       "      <th>fixed acidity</th>\n",
       "      <th>volatile acidity</th>\n",
       "      <th>citric acid</th>\n",
       "      <th>residual sugar</th>\n",
       "    </tr>\n",
       "  </thead>\n",
       "  <tbody>\n",
       "    <tr>\n",
       "      <th>1329</th>\n",
       "      <td>7.4</td>\n",
       "      <td>0.600</td>\n",
       "      <td>0.26</td>\n",
       "      <td>2.1</td>\n",
       "    </tr>\n",
       "    <tr>\n",
       "      <th>359</th>\n",
       "      <td>12.6</td>\n",
       "      <td>0.380</td>\n",
       "      <td>0.66</td>\n",
       "      <td>2.6</td>\n",
       "    </tr>\n",
       "    <tr>\n",
       "      <th>253</th>\n",
       "      <td>7.7</td>\n",
       "      <td>0.775</td>\n",
       "      <td>0.42</td>\n",
       "      <td>1.9</td>\n",
       "    </tr>\n",
       "    <tr>\n",
       "      <th>1359</th>\n",
       "      <td>11.6</td>\n",
       "      <td>0.475</td>\n",
       "      <td>0.40</td>\n",
       "      <td>1.4</td>\n",
       "    </tr>\n",
       "    <tr>\n",
       "      <th>1015</th>\n",
       "      <td>10.5</td>\n",
       "      <td>0.390</td>\n",
       "      <td>0.46</td>\n",
       "      <td>2.2</td>\n",
       "    </tr>\n",
       "    <tr>\n",
       "      <th>1069</th>\n",
       "      <td>8.0</td>\n",
       "      <td>0.620</td>\n",
       "      <td>0.35</td>\n",
       "      <td>2.8</td>\n",
       "    </tr>\n",
       "    <tr>\n",
       "      <th>1415</th>\n",
       "      <td>6.2</td>\n",
       "      <td>0.580</td>\n",
       "      <td>0.00</td>\n",
       "      <td>1.6</td>\n",
       "    </tr>\n",
       "    <tr>\n",
       "      <th>674</th>\n",
       "      <td>10.8</td>\n",
       "      <td>0.400</td>\n",
       "      <td>0.41</td>\n",
       "      <td>2.2</td>\n",
       "    </tr>\n",
       "    <tr>\n",
       "      <th>123</th>\n",
       "      <td>8.0</td>\n",
       "      <td>0.710</td>\n",
       "      <td>0.00</td>\n",
       "      <td>2.6</td>\n",
       "    </tr>\n",
       "    <tr>\n",
       "      <th>1133</th>\n",
       "      <td>7.2</td>\n",
       "      <td>0.480</td>\n",
       "      <td>0.07</td>\n",
       "      <td>5.5</td>\n",
       "    </tr>\n",
       "  </tbody>\n",
       "</table>\n",
       "</div>"
      ],
      "text/plain": [
       "      fixed acidity  volatile acidity  citric acid  residual sugar\n",
       "1329            7.4             0.600         0.26             2.1\n",
       "359            12.6             0.380         0.66             2.6\n",
       "253             7.7             0.775         0.42             1.9\n",
       "1359           11.6             0.475         0.40             1.4\n",
       "1015           10.5             0.390         0.46             2.2\n",
       "1069            8.0             0.620         0.35             2.8\n",
       "1415            6.2             0.580         0.00             1.6\n",
       "674            10.8             0.400         0.41             2.2\n",
       "123             8.0             0.710         0.00             2.6\n",
       "1133            7.2             0.480         0.07             5.5"
      ]
     },
     "execution_count": 35,
     "metadata": {},
     "output_type": "execute_result"
    }
   ],
   "source": [
    "df.sample(10)"
   ]
  },
  {
   "cell_type": "code",
   "execution_count": null,
   "id": "a3c229b3",
   "metadata": {},
   "outputs": [],
   "source": [
    "df1=df['volatile acidity'][groupby(df['volatile acidity=B'],inplace =True)]"
   ]
  }
 ],
 "metadata": {
  "kernelspec": {
   "display_name": "Python 3 (ipykernel)",
   "language": "python",
   "name": "python3"
  },
  "language_info": {
   "codemirror_mode": {
    "name": "ipython",
    "version": 3
   },
   "file_extension": ".py",
   "mimetype": "text/x-python",
   "name": "python",
   "nbconvert_exporter": "python",
   "pygments_lexer": "ipython3",
   "version": "3.10.6"
  }
 },
 "nbformat": 4,
 "nbformat_minor": 5
}
