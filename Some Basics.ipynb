{
 "cells": [
  {
   "cell_type": "code",
   "execution_count": null,
   "id": "d5a7143d",
   "metadata": {},
   "outputs": [],
   "source": [
    "# Regression\n",
    "\n",
    "# -> a concept in ML that models the relation between dependent and independent variable\n",
    "# -> used for prediction of continuous numerical values based on input\n",
    "# -> in regression, the given data is fit into mathematical function and relation between variable is found out\n",
    "# -> Process of Regression involves training model on labeled dataset\n",
    "\n",
    "# Some Regression Algorithms\n",
    "#     -> Linear Regression\n",
    "#     -> Polynomial Regression\n",
    "#     -> Ridge Regression and Lasso Regression\n",
    "#     -> Decision Tree Regression\n",
    "#     -> Support Vector Regression\n",
    "#     -> Random Forest Regression\n",
    "#     -> Neural Network Regression"
   ]
  },
  {
   "cell_type": "code",
   "execution_count": null,
   "id": "4fed5770",
   "metadata": {},
   "outputs": [],
   "source": [
    "# Linear Regression\n",
    "#     -> simplest and widely used Regression Model\n",
    "#     -> assumes linear relation between independent and dependent data\n",
    "#     -> seeks to find best fit line that minimizes the difference between predcited and actual value"
   ]
  },
  {
   "cell_type": "code",
   "execution_count": null,
   "id": "bb68acc3",
   "metadata": {},
   "outputs": [],
   "source": [
    "# Polynomial Regression\n",
    "#     -> extends Linear Regression and allows relation between variables to be nth of nth degree\n",
    "#     -> captures non linear relationships between variables"
   ]
  },
  {
   "cell_type": "code",
   "execution_count": null,
   "id": "d8308139",
   "metadata": {},
   "outputs": [],
   "source": [
    "# Ridge Regression and Lasso Regression\n",
    "#     -> variants of Linear Regression that address the problem of overfitting\n",
    "#     -> add a regularization term to the loss function\n",
    "#     -> prevents over-reliance on individual features and encourages simpler models."
   ]
  },
  {
   "cell_type": "code",
   "execution_count": null,
   "id": "4a8eb524",
   "metadata": {},
   "outputs": [],
   "source": [
    "# Decision Tree Regression\n",
    "#     -> uses Decision Tree structure (Binary Tree) to model relationships between variables\n",
    "#     -> breaks data into smaller subsets and predicts the average value of target variable in each subset"
   ]
  },
  {
   "cell_type": "code",
   "execution_count": null,
   "id": "b71388d0",
   "metadata": {},
   "outputs": [],
   "source": [
    "# Support Vector Regression\n",
    "#     -> (didnot understood need to write later)"
   ]
  },
  {
   "cell_type": "code",
   "execution_count": null,
   "id": "8cc1540d",
   "metadata": {},
   "outputs": [],
   "source": [
    "# Random Forest Regression\n",
    "#     -> builds an ensemble (group) of decision trees \n",
    "#     -> combines their predictions to make a final prediction\n",
    "#     -> helps to reduce overfitting and provides more accurate predictions."
   ]
  },
  {
   "cell_type": "code",
   "execution_count": null,
   "id": "a38fcacb",
   "metadata": {},
   "outputs": [],
   "source": [
    "# Neural Network Regression\n",
    "#     -> consist of multiple interconnected layers of artificial neurons that can learn complex patterns \n",
    "#     and relationships in the data."
   ]
  },
  {
   "cell_type": "code",
   "execution_count": null,
   "id": "ac2cdf96",
   "metadata": {},
   "outputs": [],
   "source": [
    "# Classification\n",
    "#     -> involves categorizing data into predefined classes or categories based on their features\n",
    "#     -> used for tasks such as spam detection, image recognition, sentiment analysis, and fraud detection\n",
    "#     -> the goal is to train a model that can accurately predict the class labels of new, unseen data points\n",
    "#     -> Process of Classification involves training model on labeled dataset\n",
    "\n",
    "# Some Classification Algorithms\n",
    "#     -> Logistic Regression\n",
    "#     -> Naive Bayes\n",
    "#     -> Decision Trees\n",
    "#     -> Random Forest\n",
    "#     -> Support Vector Machines(SVM)\n",
    "#     -> K-Nearest Neighbour (KNN)\n",
    "#     -> Neural Networks"
   ]
  },
  {
   "cell_type": "code",
   "execution_count": null,
   "id": "0612cd6b",
   "metadata": {},
   "outputs": [],
   "source": [
    "# Logistic Regression \n",
    "#     -> models the relationship between the features and the probability of belonging to a certain class.\n",
    "#     -> uses a logistic function to map the input features to a probability value\n",
    "#     -> makes predictions based on a threshold"
   ]
  },
  {
   "cell_type": "code",
   "execution_count": null,
   "id": "9962d8dc",
   "metadata": {},
   "outputs": [],
   "source": [
    "# Naive Bayes\n",
    "#     -> A probabilistic classifier based on Bayes theorem\n",
    "#     -> particularly useful for text classification tasks."
   ]
  },
  {
   "cell_type": "code",
   "execution_count": null,
   "id": "a8d3c641",
   "metadata": {},
   "outputs": [],
   "source": [
    "# Decision Trees\n",
    "#     -> create a tree-like model where each internal node represents a feature or attribute\n",
    "#     -> each branch represents a decision based on that feature, and each leaf node represents a class label\n",
    "#     -> handles both categorical and numerical features and are easy to interpret."
   ]
  },
  {
   "cell_type": "code",
   "execution_count": null,
   "id": "9e649171",
   "metadata": {},
   "outputs": [],
   "source": [
    "# Random Forest\n",
    "#     -> builds an ensemble (group) of decision trees \n",
    "#     -> creates a collection of decision trees\n",
    "#     -> makes predictions by averaging on the predictions of individual trees. \n",
    "#     -> known for their robustness and ability to handle high-dimensional data."
   ]
  },
  {
   "cell_type": "code",
   "execution_count": null,
   "id": "c24df746",
   "metadata": {},
   "outputs": [],
   "source": [
    "# Support Vector Machine\n",
    "#     -> (didnot understood need to write later)"
   ]
  },
  {
   "cell_type": "code",
   "execution_count": null,
   "id": "c301ccda",
   "metadata": {},
   "outputs": [],
   "source": [
    "# # K-Nearest Neighbors \n",
    "#     -> simple classification algorithm\n",
    "#     -> classifies data points based on their proximity to other labeled data points in the feature space. \n",
    "#     -> class label is determined by the majority vote of the k-nearest neighbors."
   ]
  },
  {
   "cell_type": "code",
   "execution_count": null,
   "id": "92f21bbe",
   "metadata": {},
   "outputs": [],
   "source": [
    "# Neural Networks\n",
    "#     -> Consist of multiple interconnected layers of artificial neurons that can learn complex patterns \n",
    "#                 and relationships in the data\n",
    "#     ->  Deep learning models such as convolutional neural networks (CNNs) \n",
    "#             are particularly effective for image classification tasks."
   ]
  }
 ],
 "metadata": {
  "kernelspec": {
   "display_name": "Python 3 (ipykernel)",
   "language": "python",
   "name": "python3"
  },
  "language_info": {
   "codemirror_mode": {
    "name": "ipython",
    "version": 3
   },
   "file_extension": ".py",
   "mimetype": "text/x-python",
   "name": "python",
   "nbconvert_exporter": "python",
   "pygments_lexer": "ipython3",
   "version": "3.10.9"
  }
 },
 "nbformat": 4,
 "nbformat_minor": 5
}
