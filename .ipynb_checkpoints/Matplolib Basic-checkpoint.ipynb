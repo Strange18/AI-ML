{
 "cells": [
  {
   "cell_type": "code",
   "execution_count": null,
   "id": "f75865ee",
   "metadata": {},
   "outputs": [],
   "source": [
    "from matplotlib import pylab\n",
    "import pandas as pd\n",
    "import numpy as np"
   ]
  },
  {
   "cell_type": "code",
   "execution_count": null,
   "id": "af5a8b1a",
   "metadata": {},
   "outputs": [],
   "source": [
    "#  trying to get the data from the dataset and trying to plot it but didn't went the way I thought it would go\n",
    "# so I am commenting it out for now\n",
    "\n",
    "# df = pd.read_csv(\"winequality-red.csv\")"
   ]
  },
  {
   "cell_type": "code",
   "execution_count": null,
   "id": "59bcf874",
   "metadata": {},
   "outputs": [],
   "source": [
    "# from the large dataset just taking out data from two of the column\n",
    "\n",
    "# x_acidity = df['fixed acidity']\n",
    "# y_quality = df['alcohol']"
   ]
  },
  {
   "cell_type": "code",
   "execution_count": null,
   "id": "f9fed177",
   "metadata": {},
   "outputs": [],
   "source": [
    "# plotting it using matplotlib and using the color red as the third argument\n",
    "\n",
    "# pylab.plot(x_acidity,y_quality,'r')\n"
   ]
  },
  {
   "cell_type": "code",
   "execution_count": null,
   "id": "6408b1e6",
   "metadata": {},
   "outputs": [],
   "source": [
    "# the numpy function linspace is used for generating the data as random ig\n",
    "# first 2 arguments are the number between and 3rd argument is the number of data\n",
    "# here x is the numbpy array \n",
    "\n",
    "x = np.linspace(0,100, 50)\n",
    "\n",
    "# as well as the y also is the numpy array\n",
    "y = x**3+5"
   ]
  },
  {
   "cell_type": "code",
   "execution_count": null,
   "id": "c27df998",
   "metadata": {
    "scrolled": true
   },
   "outputs": [],
   "source": [
    "pylab.plot(x,y,'g')"
   ]
  },
  {
   "cell_type": "code",
   "execution_count": null,
   "id": "93f33454",
   "metadata": {
    "scrolled": true
   },
   "outputs": [],
   "source": [
    "# The concept of sub-plot \n",
    "# Here the pylab object is the whole canvas which is used for drawing a single graph\n",
    "# The pylab canvas can be used for drawing many graphs for comparison \n",
    "# For ex: a graph may be pylab.plot(x,y) and another may be paylab.plot(y,x)\n",
    "# For these 2 graphs to be at the same canvas or say side to side \n",
    "# We can use the sub plots as below\n",
    "\n",
    "# The arguments are in the order of (rows, columns, index)\n",
    "\n",
    "pylab.subplot(1,2,1)\n",
    "pylab.plot(x,y,'r')\n",
    "\n",
    "# we have to play with the numbers in the subplot argument to get used to them.\n",
    "\n",
    "pylab.subplot(1,2,2)\n",
    "pylab.plot(y,x,'g')\n"
   ]
  },
  {
   "cell_type": "code",
   "execution_count": null,
   "id": "c59c3f14",
   "metadata": {},
   "outputs": [],
   "source": [
    "# till now we have used the module named pylab for drawing the graphs\n",
    "# pylab module is deprecated in the year 2018 so it is no longer supported\n",
    "# so now we will be learning pyplot for plotting the graph"
   ]
  },
  {
   "cell_type": "code",
   "execution_count": null,
   "id": "e21e7d56",
   "metadata": {},
   "outputs": [],
   "source": [
    "import matplotlib.pyplot as plt\n",
    "import numpy as np"
   ]
  },
  {
   "cell_type": "code",
   "execution_count": null,
   "id": "d648a5b9",
   "metadata": {},
   "outputs": [],
   "source": [
    "x1 = np.linspace(0,100,50)\n",
    "x2 = np.array([100,2,3])\n",
    "y1 = x1**2+8\n",
    "y2 = x2**2+8"
   ]
  },
  {
   "cell_type": "code",
   "execution_count": null,
   "id": "9b5be765",
   "metadata": {},
   "outputs": [],
   "source": [
    "plt.plot(x1,y1)\n",
    "plt.plot(x2,y2)\n",
    "plt.title(\"Basic data\")\n",
    "plt.xlabel(\"X-axis\")\n",
    "plt.ylabel(\"Y-axis\")\n",
    "plt.show()"
   ]
  },
  {
   "cell_type": "code",
   "execution_count": null,
   "id": "f18d0824",
   "metadata": {},
   "outputs": [],
   "source": [
    "# we can use different types of style for the graphs\n",
    "# one of the most popular style is ggplot\n",
    "#  here is how it's use\n",
    "\n",
    "import matplotlib.pyplot as plt\n",
    "# importing the module\n",
    "from matplotlib import style\n",
    "\n",
    "# mentioning which style to use\n",
    "# more can be found at https://matplotlib.org/stable/gallery/style_sheets/style_sheets_reference.html\n",
    "\n",
    "style.use(\"ggplot\")"
   ]
  },
  {
   "cell_type": "code",
   "execution_count": null,
   "id": "f2d2437c",
   "metadata": {},
   "outputs": [],
   "source": [
    "# setting the data\n",
    "x = np.linspace(0,10,2)\n",
    "y = x**2"
   ]
  },
  {
   "cell_type": "code",
   "execution_count": null,
   "id": "aed34990",
   "metadata": {},
   "outputs": [],
   "source": [
    "plt.plot(x,y)"
   ]
  },
  {
   "cell_type": "code",
   "execution_count": null,
   "id": "b2d88164",
   "metadata": {},
   "outputs": [],
   "source": [
    "#  using seaborn style\n",
    "style.use(\"seaborn-v0_8\")\n",
    "# setting the data\n",
    "x = np.linspace(0,10,2)\n",
    "y = x**2\n",
    "\n",
    "plt.plot(x,y)"
   ]
  },
  {
   "cell_type": "code",
   "execution_count": null,
   "id": "52ded962",
   "metadata": {},
   "outputs": [],
   "source": [
    "# Plotting 2 graphs and using legend\n",
    "x1  = np.linspace(0,10,5)\n",
    "y1 = x1**2\n",
    "x2 = np.array([1,2,3,4])\n",
    "y2 = x2**2\n",
    "\n",
    "plt.plot(x1,y1,label=\"auto\")\n",
    "plt.plot(x2,y2,label=\"manual\")\n",
    "\n",
    "# for making the legend of the graph\n",
    "plt.legend()"
   ]
  },
  {
   "cell_type": "code",
   "execution_count": null,
   "id": "e07e6a15",
   "metadata": {},
   "outputs": [],
   "source": [
    "# using linewidth -> changing the width of the graph\n",
    "# Plotting 2 graphs and using legend\n",
    "x1  = np.linspace(0,10,5)\n",
    "y1 = x1**2\n",
    "x2 = np.array([1,2,3,4])\n",
    "y2 = x2**2\n",
    "\n",
    "plt.plot(x1,y1,label=\"auto\",linewidth = 2)\n",
    "plt.plot(x2,y2,label=\"manual\",linewidth = 4)\n",
    "\n",
    "# for making the legend of the graph\n",
    "plt.legend()"
   ]
  },
  {
   "cell_type": "code",
   "execution_count": null,
   "id": "0a0b3924",
   "metadata": {},
   "outputs": [],
   "source": [
    "# plotting other type of graphs\n",
    "# first scatter plot\n",
    "plt.scatter(x1,y1,label=\"auto\",linewidth = 2)\n",
    "plt.scatter(x2,y2,label=\"manual\",linewidth = 4)"
   ]
  },
  {
   "cell_type": "code",
   "execution_count": null,
   "id": "815e630d",
   "metadata": {},
   "outputs": [],
   "source": [
    "# Second histrogram plot\n",
    "plt.hist(x1,y1,label=\"auto\",linewidth = 2)\n",
    "plt.hist(x2,y2,label=\"manual\",linewidth = 4)\n",
    "\n",
    "#  -> caution be sure the data you are using align with the data required by the histogram"
   ]
  },
  {
   "cell_type": "code",
   "execution_count": null,
   "id": "c44d2fde",
   "metadata": {},
   "outputs": [],
   "source": [
    "# third histogram 2d plot\n",
    "plt.hist2d(x1,y1,label=\"auto\",linewidth = 2)\n",
    "plt.hist2d(x2,y2,label=\"manual\",linewidth = 4)\n"
   ]
  },
  {
   "cell_type": "code",
   "execution_count": null,
   "id": "739d6163",
   "metadata": {},
   "outputs": [],
   "source": [
    "# Fourth boxplot 2d plot\n",
    "plt.boxplot(x1)\n",
    "\n",
    "# -> more can be found at the documentaton of the matplotlib"
   ]
  },
  {
   "cell_type": "code",
   "execution_count": null,
   "id": "fb3384ce",
   "metadata": {},
   "outputs": [],
   "source": []
  }
 ],
 "metadata": {
  "kernelspec": {
   "display_name": "Python 3 (ipykernel)",
   "language": "python",
   "name": "python3"
  },
  "language_info": {
   "codemirror_mode": {
    "name": "ipython",
    "version": 3
   },
   "file_extension": ".py",
   "mimetype": "text/x-python",
   "name": "python",
   "nbconvert_exporter": "python",
   "pygments_lexer": "ipython3",
   "version": "3.10.9"
  }
 },
 "nbformat": 4,
 "nbformat_minor": 5
}
