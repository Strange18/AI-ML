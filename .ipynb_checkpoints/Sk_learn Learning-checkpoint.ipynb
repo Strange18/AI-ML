{
 "cells": [
  {
   "cell_type": "code",
   "execution_count": null,
   "id": "8df9c4fe",
   "metadata": {},
   "outputs": [],
   "source": [
    "# Some key point to remeber\n",
    "\n",
    "#  -> picking the right model is one of the foundations of your problem solving\n"
   ]
  },
  {
   "cell_type": "code",
   "execution_count": null,
   "id": "3e4f4e13",
   "metadata": {},
   "outputs": [],
   "source": [
    "# Some Criteria for choosing a model for the project\n",
    "\n",
    "# -> The amount of data\n",
    "#     -> Some models may require smaller dataset for better performance\n",
    "#     -> while some require larger dataset for better performance"
   ]
  },
  {
   "cell_type": "code",
   "execution_count": null,
   "id": "5f6850db",
   "metadata": {},
   "outputs": [],
   "source": [
    "# -> What are the main characteristics of your data?\n",
    "\n",
    "#         ->Is your data linear, quadratic, or all over the place? \n",
    "#         -> How do your distributions look like? \n",
    "#         ->Is your data made out of numbers or strings?  \n",
    "#         ->Is the data labeled?"
   ]
  },
  {
   "cell_type": "code",
   "execution_count": null,
   "id": "79bf922b",
   "metadata": {},
   "outputs": [],
   "source": [
    "# -> Kind of a problem are you solving\n",
    "#     regression -> predicting the parameter based on other inputs\n",
    "#     classification -> Classifying the given object\n",
    "#     clustering -> grouping similar objects or data points together based on their characteristics"
   ]
  },
  {
   "cell_type": "code",
   "execution_count": null,
   "id": "8528897a",
   "metadata": {},
   "outputs": [],
   "source": [
    "# -> How models perform when compared against each other?\n",
    "#     -> we can also choose a model based on the cheat sheet provided by the sickit learn\n",
    "#     -> The cheat sheet is in this same directory"
   ]
  },
  {
   "cell_type": "code",
   "execution_count": null,
   "id": "fa3cf642",
   "metadata": {},
   "outputs": [],
   "source": []
  }
 ],
 "metadata": {
  "kernelspec": {
   "display_name": "Python 3 (ipykernel)",
   "language": "python",
   "name": "python3"
  },
  "language_info": {
   "codemirror_mode": {
    "name": "ipython",
    "version": 3
   },
   "file_extension": ".py",
   "mimetype": "text/x-python",
   "name": "python",
   "nbconvert_exporter": "python",
   "pygments_lexer": "ipython3",
   "version": "3.10.9"
  }
 },
 "nbformat": 4,
 "nbformat_minor": 5
}
