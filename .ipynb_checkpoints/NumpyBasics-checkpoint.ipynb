{
 "cells": [
  {
   "cell_type": "code",
   "execution_count": null,
   "id": "04117cf2",
   "metadata": {},
   "outputs": [],
   "source": [
    "# Background\n",
    "#     -> Numpy stands for Numerical Python\n",
    "#     -> A Python Library Used for working with arrays\n",
    "#     -> Has Functions for working in domain of:\n",
    "#         -> linear algebra\n",
    "#         -> fourier transform\n",
    "#         -> matrices\n",
    "import numpy as npan array object that is up to 50x faster than traditional Python lists.\n",
    "\n"
   ]
  },
  {
   "cell_type": "code",
   "execution_count": null,
   "id": "7958ed81",
   "metadata": {},
   "outputs": [],
   "source": [
    "# There is list so why numpy?\n",
    "# -> lists are slower \n",
    "# -> numpy provides the speed of 50x time faster than lists\n",
    "\n",
    "# converting a simple list into numpy array\n",
    "\n",
    "array = np.array([1,2,3,4,5])\n",
    "\n",
    "array\n",
    "\n",
    "type(array)\n",
    "\n",
    "array.shape #to get the shape of the numpy array\n",
    "\n",
    "array.ndim #get the dimension of array"
   ]
  },
  {
   "cell_type": "code",
   "execution_count": null,
   "id": "8f151752",
   "metadata": {},
   "outputs": [],
   "source": [
    "# converting a second D list to numpy array\n",
    "\n",
    "array2 = np.array([[1,2,3],[4,5,3]])\n",
    "\n",
    "array2\n",
    "\n",
    "type(array2)\n",
    "\n",
    "array2.shape\n",
    "\n",
    "array2.ndim\n"
   ]
  },
  {
   "cell_type": "code",
   "execution_count": null,
   "id": "87e103e0",
   "metadata": {},
   "outputs": [],
   "source": []
  }
 ],
 "metadata": {
  "kernelspec": {
   "display_name": "Python 3 (ipykernel)",
   "language": "python",
   "name": "python3"
  },
  "language_info": {
   "codemirror_mode": {
    "name": "ipython",
    "version": 3
   },
   "file_extension": ".py",
   "mimetype": "text/x-python",
   "name": "python",
   "nbconvert_exporter": "python",
   "pygments_lexer": "ipython3",
   "version": "3.10.6"
  }
 },
 "nbformat": 4,
 "nbformat_minor": 5
}
