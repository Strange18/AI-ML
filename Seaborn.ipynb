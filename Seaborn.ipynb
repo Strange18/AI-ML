{
 "cells": [
  {
   "cell_type": "code",
   "execution_count": null,
   "id": "84c22f91",
   "metadata": {},
   "outputs": [],
   "source": [
    "# importing imports\n",
    "import numpy as np\n",
    "import pandas as pd\n",
    "import matplotlib.pyplot as plt\n",
    "\n",
    "# seaborn is written on top of the matplotlib library\n",
    "import seaborn as sns"
   ]
  },
  {
   "cell_type": "code",
   "execution_count": null,
   "id": "b4b508c1",
   "metadata": {},
   "outputs": [],
   "source": [
    "# seaborn has a bunch of builtin datasets which name can be found by typing \n",
    "# sns.get_dataset_names()\n",
    "\n",
    "# to load any of the dataset you can use \n",
    "df = sns.load_dataset('car_crashes')"
   ]
  },
  {
   "cell_type": "code",
   "execution_count": null,
   "id": "dc8c23b9",
   "metadata": {},
   "outputs": [],
   "source": [
    "# printing the dataset which was loaded\n",
    "df"
   ]
  },
  {
   "cell_type": "code",
   "execution_count": null,
   "id": "037734a3",
   "metadata": {},
   "outputs": [],
   "source": [
    "# Apply the default theme\n",
    "sns.set_theme()"
   ]
  },
  {
   "cell_type": "code",
   "execution_count": null,
   "id": "da9003aa",
   "metadata": {},
   "outputs": [],
   "source": [
    "# Distribution Plot\n",
    "\n",
    "# Distribution plot is a graphical representation of the distribution of a single variable.\n",
    "# It is used to visualize the spread and central tendency of a dataset with one dimension.\n",
    "# displot function is for the plotting the distribution plot that takes a single column of data\n",
    "# kde is set to true so we can be able to see the distribution line as in normal distribution\n",
    "# bins = 25 is for the width to be set -> play with this\n",
    "\n",
    "sns.displot(df['alcohol'],kde=True,bins=20)"
   ]
  },
  {
   "cell_type": "code",
   "execution_count": null,
   "id": "b9a00981",
   "metadata": {},
   "outputs": [],
   "source": [
    "# Joint plot\n",
    "\n",
    "# it will be used to compare 2 distributions\n",
    "# It typically combines a scatterplot of the two variables with a histogram \n",
    "# of their distributions along each axis.\n",
    "\n",
    "sns.jointplot(x='total',y='alcohol',data = df,kind=\"hist\")\n",
    "\n",
    "# -> Kind parameter accepts these types { “scatter” | “kde” | “hist” | “hex” | “reg” | “resid” }\n",
    "\n",
    "# try playing around with these tooo\n"
   ]
  },
  {
   "cell_type": "code",
   "execution_count": null,
   "id": "a59bfcf5",
   "metadata": {},
   "outputs": [],
   "source": [
    "#  KDE plot\n",
    "\n",
    "# KDE stands for Kernel Density Estimation Plot. It is a type of vizualization that shows the probability\n",
    "# density function of a set of continuous data\n",
    "#  it is non parametric way of estimating the probability density function of the random variable\n",
    "\n",
    "#  Basic KDE plot\n",
    "sns.kdeplot(df['total'])"
   ]
  },
  {
   "cell_type": "code",
   "execution_count": null,
   "id": "878c750d",
   "metadata": {},
   "outputs": [],
   "source": [
    "#  Pair Plot\n",
    "\n",
    "# one of the coolest plot that i think there is \n",
    "# basically used for comparing relationship among all the dataframes numerical value\n",
    "\n",
    "# hue argument is used for categorizing the data based on certain category eg:sex,place\n",
    "\n",
    "# palette is for specifying the color or for styling the graph made\n",
    "\n",
    "sns.pairplot(data = df,hue='abbrev',palette='Blues')"
   ]
  },
  {
   "cell_type": "code",
   "execution_count": null,
   "id": "d9e8eb7a",
   "metadata": {},
   "outputs": [],
   "source": [
    "# Rug Plots\n",
    "\n",
    "# Kind of are not used very much \n",
    "# uses only one data\n",
    "# similar to histogram\n",
    "# histogram is tall but rug plots are dense\n",
    "\n",
    "sns.rugplot(df['speeding'])"
   ]
  },
  {
   "cell_type": "code",
   "execution_count": null,
   "id": "baf850fb",
   "metadata": {},
   "outputs": [],
   "source": []
  }
 ],
 "metadata": {
  "kernelspec": {
   "display_name": "Python 3 (ipykernel)",
   "language": "python",
   "name": "python3"
  },
  "language_info": {
   "codemirror_mode": {
    "name": "ipython",
    "version": 3
   },
   "file_extension": ".py",
   "mimetype": "text/x-python",
   "name": "python",
   "nbconvert_exporter": "python",
   "pygments_lexer": "ipython3",
   "version": "3.10.9"
  }
 },
 "nbformat": 4,
 "nbformat_minor": 5
}
