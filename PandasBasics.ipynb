{
 "cells": [
  {
   "cell_type": "code",
   "execution_count": null,
   "id": "df989877",
   "metadata": {},
   "outputs": [],
   "source": [
    "# Background\n",
    "#     -> Python Library for working with data set\n",
    "#     -> Pandas help for analyzing, cleaning, exploring, and manipulating \n",
    "#     -> Pandas - Python Data Analysis\n",
    "#     -> Pandas can clean messy data sets, and make them readable and relevant.\n",
    "#     -> Pandas allows us to analyze big data and make conclusions based on statistical theories. -> Learn HOW?\n",
    "\n",
    "import pandas as pd"
   ]
  },
  {
   "cell_type": "code",
   "execution_count": null,
   "id": "6214c843",
   "metadata": {},
   "outputs": [],
   "source": [
    "# Concept of Series\n",
    "#     -> Series are like columns\n",
    "a = [1,2,3,4]\n",
    "\n",
    "# by default there will be no Lable\n",
    "# if there are no label than the values will have their index at first\n",
    "# we can specify lable by using index keyword\n",
    "series = pd.Series(a,index=['a',2,'5',6])\n",
    "\n",
    "# index is the list in which label can be of any data type\n",
    "# if we use dictionary instead of list for changing to series \n",
    "# the key will be used as label\n",
    "# we can also specify which keys to be seen by mentioning them in the index list\n",
    "\n",
    "series\n"
   ]
  },
  {
   "cell_type": "code",
   "execution_count": null,
   "id": "e89ce4c6",
   "metadata": {},
   "outputs": [],
   "source": [
    "# Concept of DataFrame\n",
    "#     -> DataFrame are like the whole table\n",
    "#     -> Data sets in Pandas are usually multi-dimensional tables, called DataFrames.\n",
    "\n",
    "#  a example of data\n",
    "data = {\n",
    "  \"calories\": [420, 380, 390],\n",
    "  \"duration\": [50, 40, 45]\n",
    "}\n",
    "\n",
    "# converting the data to the dataframe\n",
    "# here DataFrame is a class and data is fed to this class\n",
    "# here calories and duration will be column names and data will be in row\n",
    "# df = pd.DataFrame(data)\n",
    "\n",
    "# to get any data by using index use can use loc[index] function on dataframe object\n",
    "\n",
    "df.loc[2]\n",
    "\n",
    "# we can use labels inplace of indexes using index keyword as in series\n",
    "# things to consider is -> label should be equal to no of data\n",
    "\n",
    "df = pd.DataFrame(data,index=['a','v',2])\n",
    "\n",
    "# after providing label we can use loc['label_of_index'] to locate the data\n",
    "\n",
    "df"
   ]
  },
  {
   "cell_type": "code",
   "execution_count": null,
   "id": "35442a1e",
   "metadata": {},
   "outputs": [],
   "source": [
    "# loading data from the files\n",
    "df = pd.read_csv('music.csv')\n",
    "\n",
    "# to read json file\n",
    "\n",
    "# df = pd.read_json(<json file>)"
   ]
  },
  {
   "cell_type": "code",
   "execution_count": null,
   "id": "e8d4f1bc",
   "metadata": {
    "scrolled": true
   },
   "outputs": [],
   "source": [
    "# -> to view first 10 data\n",
    "df.head() \n",
    "# -> to view last 10 data\n",
    "df.tail() \n",
    "# -> to view general information about the dataframe in general\n",
    "df.info() "
   ]
  },
  {
   "cell_type": "code",
   "execution_count": null,
   "id": "384e04bb",
   "metadata": {},
   "outputs": [],
   "source": [
    "# Cleaning data include \n",
    "#     -> Missing Data\n",
    "#     -> Wrong data\n",
    "#     -> Duplicates\n",
    "#     -> Wrong Format"
   ]
  },
  {
   "cell_type": "code",
   "execution_count": null,
   "id": "02aa80df",
   "metadata": {},
   "outputs": [],
   "source": [
    "# to drop the entire row if it has null value for a single data\n",
    "# we will be using dropna() function i.e drop null values, this function will return the new dataframe\n",
    "new_df = df.dropna()\n",
    "\n",
    "# to drop the null values in the existing dataframe we can use inplace = True in dropna() function \n",
    "df.dropna(inplace=True)\n",
    "\n",
    "# sometime we cannot drop the entire row as the data may be limited \n",
    "# so we need to replace the empty spaces with the other values\n",
    "# to fill the null spaces we can use fillna() function \n",
    "# usually the value will be average of the colum or the median or other parameter\n",
    "# function of inplace = True is same as before\n",
    "df.fillna(120, inplace=True)\n",
    "\n",
    "# calculating the mean for specific column\n",
    "x = df['calories'].mean()\n",
    "\n",
    "# fill the null space of the calories column only\n",
    "df['calories'].fillna(x, inplace=True)\n",
    "\n",
    "# calculating the meadian\n",
    "med = df['calories'].median()\n",
    "\n",
    "# calculating the mode\n",
    "mod = df['calories'].mode()[0]"
   ]
  },
  {
   "cell_type": "code",
   "execution_count": null,
   "id": "a6da36d5",
   "metadata": {},
   "outputs": [],
   "source": [
    "# all available datatypes in pandas\n",
    "#     -> object -> similar to strings\n",
    "#     -> int64\n",
    "#     -> float64\n",
    "#     -> bool\n",
    "#     -> datetime64\n",
    "#     -> timedelta (difference between datetime)\n",
    "#     -> category\n",
    "\n",
    "# to convert the data in the write format\n",
    "df['calories'] = df['caloreis'].astype(object)"
   ]
  },
  {
   "cell_type": "code",
   "execution_count": null,
   "id": "1f7a59a6",
   "metadata": {},
   "outputs": [],
   "source": [
    "# working with outliners i.e. higher values or lower values for the data\n",
    "# for higer values\n",
    "for x in df.index:\n",
    "  if df.loc[x, \"calories\"] > 120:\n",
    "    df.loc[x, \"calories\"] = 120\n",
    "\n",
    "# in place of 120 or 60 there can be any value or mean or medians\n",
    "\n",
    "# for lower values\n",
    "for x in df.index:\n",
    "  if df.loc[x, \"calories\"] < 60:\n",
    "    df.loc[x, \"calories\"] = 60\n",
    "# removing the row\n",
    "for x in df.index:\n",
    "  if df.loc[x, \"calories\"] > 120:\n",
    "    df.drop(x, inplace = True)"
   ]
  },
  {
   "cell_type": "code",
   "execution_count": null,
   "id": "88ba4cc8",
   "metadata": {},
   "outputs": [],
   "source": [
    "# to drop the duplicates\n",
    "df.drop_duplicates(inplace = True)"
   ]
  },
  {
   "cell_type": "code",
   "execution_count": null,
   "id": "7d7c6de5",
   "metadata": {},
   "outputs": [],
   "source": []
  }
 ],
 "metadata": {
  "kernelspec": {
   "display_name": "Python 3 (ipykernel)",
   "language": "python",
   "name": "python3"
  },
  "language_info": {
   "codemirror_mode": {
    "name": "ipython",
    "version": 3
   },
   "file_extension": ".py",
   "mimetype": "text/x-python",
   "name": "python",
   "nbconvert_exporter": "python",
   "pygments_lexer": "ipython3",
   "version": "3.10.6"
  }
 },
 "nbformat": 4,
 "nbformat_minor": 5
}
