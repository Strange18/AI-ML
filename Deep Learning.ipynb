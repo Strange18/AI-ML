{
 "cells": [
  {
   "cell_type": "markdown",
   "id": "6ea7c01d",
   "metadata": {},
   "source": [
    "# Introduction to Deep Learning"
   ]
  },
  {
   "cell_type": "code",
   "execution_count": 1,
   "id": "8304f113",
   "metadata": {},
   "outputs": [],
   "source": [
    "# Forward Propagation Algorithm\n",
    "# in this algorithm, the weigh of the hidden layer is calculated by \n",
    "#  -> multiplying weight of origin node and the weight of the edges \n",
    "#  -> and summing all such multiplied values"
   ]
  },
  {
   "cell_type": "code",
   "execution_count": null,
   "id": "fd4d5b76",
   "metadata": {},
   "outputs": [],
   "source": [
    "# Activation function \n",
    "# this activation function captures non linearities in the model and increases the predictive power of the model\n",
    "# this function is used to avoid the negative terms generated in the calculation and assign 0 to negative -> ReLU"
   ]
  }
 ],
 "metadata": {
  "kernelspec": {
   "display_name": "Python 3 (ipykernel)",
   "language": "python",
   "name": "python3"
  },
  "language_info": {
   "codemirror_mode": {
    "name": "ipython",
    "version": 3
   },
   "file_extension": ".py",
   "mimetype": "text/x-python",
   "name": "python",
   "nbconvert_exporter": "python",
   "pygments_lexer": "ipython3",
   "version": "3.10.9"
  }
 },
 "nbformat": 4,
 "nbformat_minor": 5
}
